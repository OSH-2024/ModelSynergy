{
 "cells": [
  {
   "cell_type": "code",
   "execution_count": 8,
   "id": "bbc22da1-ff04-4334-af86-4388079a7815",
   "metadata": {},
   "outputs": [
    {
     "name": "stdout",
     "output_type": "stream",
     "text": [
      "/home/aistudio/ModelSynergy\n",
      "python: can't open file '/home/aistudio/ModelSynergy/browser.py': [Errno 2] No such file or directory\n"
     ]
    }
   ],
   "source": [
    "\n",
    "!cd docs/\n",
    "!pwd\n",
    "!python browser.py -f ./test -d 和英伟达相关的图片"
   ]
  },
  {
   "cell_type": "code",
   "execution_count": null,
   "id": "84cbed4a-0f33-4daf-8323-bafd255e4faf",
   "metadata": {},
   "outputs": [],
   "source": []
  }
 ],
 "metadata": {
  "kernelspec": {
   "display_name": "Python 3 (ipykernel)",
   "language": "python",
   "name": "python3"
  },
  "language_info": {
   "codemirror_mode": {
    "name": "ipython",
    "version": 3
   },
   "file_extension": ".py",
   "mimetype": "text/x-python",
   "name": "python",
   "nbconvert_exporter": "python",
   "pygments_lexer": "ipython3",
   "version": "3.10.12"
  }
 },
 "nbformat": 4,
 "nbformat_minor": 5
}
