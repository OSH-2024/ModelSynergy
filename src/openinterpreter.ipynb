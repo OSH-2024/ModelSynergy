{
 "cells": [
  {
   "cell_type": "code",
   "execution_count": 1,
   "metadata": {},
   "outputs": [
    {
     "name": "stderr",
     "output_type": "stream",
     "text": [
      "D:\\Lib\\site-packages\\pydantic\\_internal\\_fields.py:151: UserWarning: Field \"model_id\" has conflict with protected namespace \"model_\".\n",
      "\n",
      "You may be able to resolve this warning by setting `model_config['protected_namespaces'] = ()`.\n",
      "  warnings.warn(\n",
      "Exception in thread Exception in thread Thread-8 (iopub_message_listener):\n",
      "Traceback (most recent call last):\n",
      "  File \"d:\\Lib\\threading.py\", line 1045, in _bootstrap_inner\n",
      "Thread-7 (iopub_message_listener):\n",
      "Traceback (most recent call last):\n",
      "  File \"d:\\Lib\\threading.py\", line 1045, in _bootstrap_inner\n",
      "    self.run()\n",
      "  File \"D:\\Lib\\site-packages\\ipykernel\\ipkernel.py\", line 766, in run_closure\n",
      "    self.run()\n",
      "  File \"D:\\Lib\\site-packages\\ipykernel\\ipkernel.py\", line 766, in run_closure\n",
      "    _threading_Thread_run(self)\n",
      "  File \"d:\\Lib\\threading.py\", line 982, in run\n",
      "    _threading_Thread_run(self)\n",
      "  File \"d:\\Lib\\threading.py\", line 982, in run\n",
      "    self._target(*self._args, **self._kwargs)\n",
      "  File \"D:\\Lib\\site-packages\\interpreter\\core\\computer\\terminal\\languages\\jupyter_language.py\", line 114, in iopub_message_listener\n",
      "    self._target(*self._args, **self._kwargs)\n",
      "  File \"D:\\Lib\\site-packages\\interpreter\\core\\computer\\terminal\\languages\\jupyter_language.py\", line 114, in iopub_message_listener\n",
      "    msg = self.kc.iopub_channel.get_msg(timeout=0.05)\n",
      "          ^^^^^^^^^^^^^^^^^^^^^^^^^^^^^^^^^^^^^^^^^^^\n",
      "  File \"D:\\Lib\\site-packages\\jupyter_client\\channels.py\", line 230, in get_msg\n",
      "    msg = self.kc.iopub_channel.get_msg(timeout=0.05)\n",
      "          ^^^^^^^^^^^^^^^^^^^^^^^^^^^^^^^^^^^^^^^^^^^\n",
      "  File \"D:\\Lib\\site-packages\\jupyter_client\\channels.py\", line 230, in get_msg\n",
      "    res = self._recv()\n",
      "          ^^^^^^^^^^^^\n",
      "  File \"D:\\Lib\\site-packages\\jupyter_client\\channels.py\", line 220, in _recv\n",
      "    res = self._recv()\n",
      "          ^^^^^^^^^^^^\n",
      "  File \"D:\\Lib\\site-packages\\jupyter_client\\channels.py\", line 221, in _recv\n",
      "    ident, smsg = self.session.feed_identities(msg)\n",
      "                  ^^^^^^^^^^^^^^^^^^^^^^^^^^^^^^^^^\n",
      "  File \"D:\\Lib\\site-packages\\jupyter_client\\session.py\", line 983, in feed_identities\n",
      "    return self.session.deserialize(smsg)\n",
      "           ^^^^^^^^^^^^^^^^^^^^^^^^^^^^^^\n",
      "  File \"D:\\Lib\\site-packages\\jupyter_client\\session.py\", line 1074, in deserialize\n",
      "    raise ValueError(msg)\n",
      "ValueError: Invalid Signature: b'5700b0629c89ad7fa6b226a59ed67a020ef41fd721a09fd1508af5f4e994dd86'\n",
      "    idx = msg_list.index(DELIM)\n",
      "          ^^^^^^^^^^^^^^^^^^^^^\n",
      "ValueError: b'<IDS|MSG>' is not in list\n"
     ]
    },
    {
     "data": {
      "text/html": [
       "<pre style=\"white-space:pre;overflow-x:auto;line-height:normal;font-family:Menlo,'DejaVu Sans Mono',consolas,'Courier New',monospace\"><span style=\"font-weight: bold\">Open Interpreter</span> will require approval before running code.                                                        \n",
       "</pre>\n"
      ],
      "text/plain": [
       "\u001b[1mOpen Interpreter\u001b[0m will require approval before running code.                                                        \n"
      ]
     },
     "metadata": {},
     "output_type": "display_data"
    },
    {
     "name": "stdout",
     "output_type": "stream",
     "text": [
      "\n"
     ]
    },
    {
     "data": {
      "text/html": [
       "<pre style=\"white-space:pre;overflow-x:auto;line-height:normal;font-family:Menlo,'DejaVu Sans Mono',consolas,'Courier New',monospace\">Use <span style=\"color: #008080; text-decoration-color: #008080; background-color: #000000; font-weight: bold\">interpreter -y</span> to bypass this.                                                                                 \n",
       "</pre>\n"
      ],
      "text/plain": [
       "Use \u001b[1;36;40minterpreter -y\u001b[0m to bypass this.                                                                                 \n"
      ]
     },
     "metadata": {},
     "output_type": "display_data"
    },
    {
     "name": "stdout",
     "output_type": "stream",
     "text": [
      "\n"
     ]
    },
    {
     "data": {
      "text/html": [
       "<pre style=\"white-space:pre;overflow-x:auto;line-height:normal;font-family:Menlo,'DejaVu Sans Mono',consolas,'Courier New',monospace\">Press <span style=\"color: #008080; text-decoration-color: #008080; background-color: #000000; font-weight: bold\">CTRL-C</span> to exit.                                                                                              \n",
       "</pre>\n"
      ],
      "text/plain": [
       "Press \u001b[1;36;40mCTRL-C\u001b[0m to exit.                                                                                              \n"
      ]
     },
     "metadata": {},
     "output_type": "display_data"
    },
    {
     "name": "stdout",
     "output_type": "stream",
     "text": [
      "\n"
     ]
    }
   ],
   "source": [
    "from interpreter import interpreter\n",
    "\n",
    "interpreter.chat(\"Plot AAPL and META's normalized stock prices\") # 执行单一命令"
   ]
  }
 ],
 "metadata": {
  "kernelspec": {
   "display_name": "Python 3",
   "language": "python",
   "name": "python3"
  },
  "language_info": {
   "codemirror_mode": {
    "name": "ipython",
    "version": 3
   },
   "file_extension": ".py",
   "mimetype": "text/x-python",
   "name": "python",
   "nbconvert_exporter": "python",
   "pygments_lexer": "ipython3",
   "version": "3.11.9"
  }
 },
 "nbformat": 4,
 "nbformat_minor": 2
}
